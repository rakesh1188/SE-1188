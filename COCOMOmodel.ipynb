{
  "nbformat": 4,
  "nbformat_minor": 0,
  "metadata": {
    "colab": {
      "provenance": [],
      "authorship_tag": "ABX9TyMv1+sL6CeM4IgRuHVlKL0P",
      "include_colab_link": true
    },
    "kernelspec": {
      "name": "python3",
      "display_name": "Python 3"
    },
    "language_info": {
      "name": "python"
    }
  },
  "cells": [
    {
      "cell_type": "markdown",
      "metadata": {
        "id": "view-in-github",
        "colab_type": "text"
      },
      "source": [
        "<a href=\"https://colab.research.google.com/github/rakesh1188/SE-1188/blob/main/COCOMOmodel.ipynb\" target=\"_parent\"><img src=\"https://colab.research.google.com/assets/colab-badge.svg\" alt=\"Open In Colab\"/></a>"
      ]
    },
    {
      "cell_type": "code",
      "execution_count": null,
      "metadata": {
        "colab": {
          "base_uri": "https://localhost:8080/"
        },
        "id": "KoyNi_8aqxdm",
        "outputId": "7b23995e-6e01-43e8-e081-acc399e27f2b"
      },
      "outputs": [
        {
          "output_type": "stream",
          "name": "stdout",
          "text": [
            "Effort Required: 145.93 person-months\n",
            "Development Time: 16.61 months\n",
            "Average Team Size: 8.79 persons\n"
          ]
        }
      ],
      "source": [
        "def cocomo_basic(mode, kloc):\n",
        "    \"\"\"\n",
        "    Calculate effort, time, and team size using the Basic COCOMO Model.\n",
        "    :param mode: Type of project ('organic', 'semi-detached', 'embedded')\n",
        "    :param kloc: Size of project in KLOC (thousands of lines of code)\n",
        "    :return: Effort (person-months), Time (months), Team Size (persons)\n",
        "    \"\"\"\n",
        "\n",
        "    coefficients = {\n",
        "        \"organic\": (2.4, 1.05, 2.5, 0.38),\n",
        "        \"semi-detached\": (3.0, 1.12, 2.5, 0.35),\n",
        "        \"embedded\": (3.6, 1.20, 2.5, 0.32)\n",
        "    }\n",
        "\n",
        "    if mode not in coefficients:\n",
        "        raise ValueError(\"Invalid mode. Choose from 'organic', 'semi-detached', or 'embedded'.\")\n",
        "\n",
        "    a, b, c, d = coefficients[mode]\n",
        "\n",
        "    effort = a * (kloc ** b)\n",
        "\n",
        "    time = c * (effort ** d)\n",
        "\n",
        "    team_size = effort / time\n",
        "\n",
        "    return effort, time, team_size\n",
        "\n",
        "if __name__ == \"__main__\":\n",
        "    mode = \"organic\"\n",
        "    kloc = 50\n",
        "    effort, time, team_size = cocomo_basic(mode, kloc)\n",
        "    print(f\"Effort Required: {effort:.2f} person-months\")\n",
        "    print(f\"Development Time: {time:.2f} months\")\n",
        "    print(f\"Average Team Size: {team_size:.2f} persons\")\n"
      ]
    },
    {
      "cell_type": "code",
      "source": [
        "import math\n",
        "\n",
        "def basic_cocomo(mode, size):\n",
        "    \"\"\"\n",
        "    Basic COCOMO Model Implementation\n",
        "    :param mode: str (Organic, Semi-Detached, Embedded)\n",
        "    :param size: float (Size of project in KLOC)\n",
        "    :return: dict (Effort, Time, and Staff Estimation)\n",
        "    \"\"\"\n",
        "    modes = {\n",
        "        \"organic\": (2.4, 1.05, 2.5, 0.38),\n",
        "        \"semi-detached\": (3.0, 1.12, 2.5, 0.35),\n",
        "        \"embedded\": (3.6, 1.20, 2.5, 0.32),\n",
        "    }\n",
        "\n",
        "    if mode.lower() not in modes:\n",
        "        raise ValueError(\"Invalid mode. Choose from 'organic', 'semi-detached', or 'embedded'.\")\n",
        "\n",
        "    a, b, c, d = modes[mode.lower()]\n",
        "    effort = a * (size ** b)\n",
        "    time = c * (effort ** d)\n",
        "    staff = effort / time\n",
        "\n",
        "    return {\"Effort (Person-Months)\": effort, \"Time (Months)\": time, \"Staff Required\": staff}\n",
        "\n",
        "\n",
        "def intermediate_cocomo(mode, size, eaf):\n",
        "    \"\"\"\n",
        "    Intermediate COCOMO Model Implementation\n",
        "    :param mode: str (Organic, Semi-Detached, Embedded)\n",
        "    :param size: float (Size of project in KLOC)\n",
        "    :param eaf: float (Effort Adjustment Factor)\n",
        "    :return: dict (Effort, Time, and Staff Estimation)\n",
        "    \"\"\"\n",
        "    basic_estimate = basic_cocomo(mode, size)\n",
        "    basic_effort = basic_estimate[\"Effort (Person-Months)\"]\n",
        "\n",
        "    effort = eaf * basic_effort\n",
        "    time = 2.5 * (effort ** 0.38)\n",
        "    staff = effort / time\n",
        "\n",
        "    return {\"Effort (Person-Months)\": effort, \"Time (Months)\": time, \"Staff Required\": staff}\n",
        "\n",
        "\n",
        "def detailed_cocomo(mode, size, cost_drivers):\n",
        "    \"\"\"\n",
        "    Detailed COCOMO Model Implementation\n",
        "    :param mode: str (Organic, Semi-Detached, Embedded)\n",
        "    :param size: float (Size of project in KLOC)\n",
        "    :param cost_drivers: dict (Multiplicative cost driver values)\n",
        "    :return: dict (Effort, Time, and Staff Estimation)\n",
        "    \"\"\"\n",
        "    eaf = math.prod(cost_drivers.values())\n",
        "    return intermediate_cocomo(mode, size, eaf)\n",
        "\n",
        "if __name__ == \"__main__\":\n",
        "    size_kloc = 50\n",
        "    mode_type = \"organic\"\n",
        "\n",
        "    print(\"Basic COCOMO:\", basic_cocomo(mode_type, size_kloc))\n",
        "\n",
        "    eaf_value = 1.2\n",
        "    print(\"Intermediate COCOMO:\", intermediate_cocomo(mode_type, size_kloc, eaf_value))\n",
        "\n",
        "    cost_drivers_example = {\n",
        "        \"RELY\": 1.1,\n",
        "        \"DATA\": 1.08,\n",
        "        \"CPLX\": 1.3,\n",
        "        \"TIME\": 1.1,\n",
        "    }\n",
        "    print(\"Detailed COCOMO:\", detailed_cocomo(mode_type, size_kloc, cost_drivers_example))"
      ],
      "metadata": {
        "colab": {
          "base_uri": "https://localhost:8080/"
        },
        "id": "H6R1NnG7rHat",
        "outputId": "432d74be-04bc-4d27-955a-95788ca9ae75"
      },
      "execution_count": null,
      "outputs": [
        {
          "output_type": "stream",
          "name": "stdout",
          "text": [
            "Basic COCOMO: {'Effort (Person-Months)': 145.92501487903888, 'Time (Months)': 16.60769315759501, 'Staff Required': 8.786591460615025}\n",
            "Intermediate COCOMO: {'Effort (Person-Months)': 175.11001785484666, 'Time (Months)': 17.799105848681528, 'Staff Required': 9.838135653753527}\n",
            "Detailed COCOMO: {'Effort (Person-Months)': 247.90325227710647, 'Time (Months)': 20.312681268038894, 'Staff Required': 12.204358893139887}\n"
          ]
        }
      ]
    }
  ]
}